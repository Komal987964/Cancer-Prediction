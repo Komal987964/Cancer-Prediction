{
 "cells": [
  {
   "cell_type": "markdown",
   "id": "6a7ce497-0f15-425b-98ec-6af2c0ed7425",
   "metadata": {},
   "source": [
    "### Problem Statement\n",
    "The dataset is designed to predict the presence of cancer based on various features. The dataset comprises the following columns:\n",
    "\n",
    "- age: Integer values representing the patient's age, ranging from 20 to 80.\n",
    "- gender: Binary values representing gender, where 0 indicates Male and 1 indicates Female.\n",
    "- bmi: Continuous values representing Body Mass Index, ranging from 15 to 40.\n",
    "- smoking: Binary values indicating smoking status, where 0 means No and 1 means Yes.\n",
    "- genetic_risk: Categorical values representing genetic risk levels for cancer, with 0 indicating Low, 1 indicating Medium, and 2 indicating High.\n",
    "- physical_activity: Continuous values representing the number of hours per week spent on physical activities, ranging from 0 to 10.\n",
    "- alcohol_intake: Continuous values representing the number of alcohol units consumed per week, ranging from 0 to 5.\n",
    "- cancer_history: Binary values indicating whether the patient has a personal history of cancer, where 0 means No and 1 means Yes.\n",
    "- diagnosis: Binary values indicating the cancer diagnosis status, where 0 indicates No Cancer and 1 indicates Cancer.\n",
    "    \n",
    "Task is to use this dataset to build and compare the performance of Decision Tree and Random Forest models to predict the presence of cancer. Additionally, explore various parameters of the RandomForestClassifier to enhance model performance.\n",
    "\n",
    "Dataset credits: Rabie El Kharoua (https://www.kaggle.com/datasets/rabieelkharoua/cancer-prediction-dataset)"
   ]
  },
  {
   "cell_type": "markdown",
   "id": "6daaa0b2-2566-4009-84ec-750a7e435295",
   "metadata": {},
   "source": [
    "**Import Necessary Libraries**"
   ]
  },
  {
   "cell_type": "code",
   "execution_count": 1,
   "id": "ab625b00-7ad6-419e-8478-f74970a14931",
   "metadata": {},
   "outputs": [],
   "source": [
    "import pandas as  pd\n",
    "from sklearn.model_selection import train_test_split\n",
    "from sklearn.tree import DecisionTreeClassifier\n",
    "from sklearn.ensemble import RandomForestClassifier\n",
    "from sklearn.metrics import classification_report"
   ]
  },
  {
   "cell_type": "markdown",
   "id": "25429586-be86-43a2-a809-5c0a2e083c4b",
   "metadata": {},
   "source": [
    "### Data Preparation and Exploration"
   ]
  },
  {
   "cell_type": "code",
   "execution_count": 2,
   "id": "d3fc74e7-5964-4cb1-8a84-e2330856edfd",
   "metadata": {},
   "outputs": [
    {
     "name": "stdout",
     "output_type": "stream",
     "text": [
      "Number of rows and columns: (1500, 9)\n",
      "First few rows of the dataset:\n"
     ]
    },
    {
     "data": {
      "text/html": [
       "<div>\n",
       "<style scoped>\n",
       "    .dataframe tbody tr th:only-of-type {\n",
       "        vertical-align: middle;\n",
       "    }\n",
       "\n",
       "    .dataframe tbody tr th {\n",
       "        vertical-align: top;\n",
       "    }\n",
       "\n",
       "    .dataframe thead th {\n",
       "        text-align: right;\n",
       "    }\n",
       "</style>\n",
       "<table border=\"1\" class=\"dataframe\">\n",
       "  <thead>\n",
       "    <tr style=\"text-align: right;\">\n",
       "      <th></th>\n",
       "      <th>age</th>\n",
       "      <th>gender</th>\n",
       "      <th>bmi</th>\n",
       "      <th>smoking</th>\n",
       "      <th>genetic_risk</th>\n",
       "      <th>physical_activity</th>\n",
       "      <th>alcohol_intake</th>\n",
       "      <th>cancer_history</th>\n",
       "      <th>diagnosis</th>\n",
       "    </tr>\n",
       "  </thead>\n",
       "  <tbody>\n",
       "    <tr>\n",
       "      <th>0</th>\n",
       "      <td>58</td>\n",
       "      <td>1</td>\n",
       "      <td>16.085313</td>\n",
       "      <td>0</td>\n",
       "      <td>1</td>\n",
       "      <td>8.146251</td>\n",
       "      <td>4.148219</td>\n",
       "      <td>1</td>\n",
       "      <td>1</td>\n",
       "    </tr>\n",
       "    <tr>\n",
       "      <th>1</th>\n",
       "      <td>71</td>\n",
       "      <td>0</td>\n",
       "      <td>30.828784</td>\n",
       "      <td>0</td>\n",
       "      <td>1</td>\n",
       "      <td>9.361630</td>\n",
       "      <td>3.519683</td>\n",
       "      <td>0</td>\n",
       "      <td>0</td>\n",
       "    </tr>\n",
       "    <tr>\n",
       "      <th>2</th>\n",
       "      <td>48</td>\n",
       "      <td>1</td>\n",
       "      <td>38.785084</td>\n",
       "      <td>0</td>\n",
       "      <td>2</td>\n",
       "      <td>5.135179</td>\n",
       "      <td>4.728368</td>\n",
       "      <td>0</td>\n",
       "      <td>1</td>\n",
       "    </tr>\n",
       "    <tr>\n",
       "      <th>3</th>\n",
       "      <td>34</td>\n",
       "      <td>0</td>\n",
       "      <td>30.040295</td>\n",
       "      <td>0</td>\n",
       "      <td>0</td>\n",
       "      <td>9.502792</td>\n",
       "      <td>2.044636</td>\n",
       "      <td>0</td>\n",
       "      <td>0</td>\n",
       "    </tr>\n",
       "    <tr>\n",
       "      <th>4</th>\n",
       "      <td>62</td>\n",
       "      <td>1</td>\n",
       "      <td>35.479721</td>\n",
       "      <td>0</td>\n",
       "      <td>0</td>\n",
       "      <td>5.356890</td>\n",
       "      <td>3.309849</td>\n",
       "      <td>0</td>\n",
       "      <td>1</td>\n",
       "    </tr>\n",
       "  </tbody>\n",
       "</table>\n",
       "</div>"
      ],
      "text/plain": [
       "   age  gender        bmi  smoking  genetic_risk  physical_activity  \\\n",
       "0   58       1  16.085313        0             1           8.146251   \n",
       "1   71       0  30.828784        0             1           9.361630   \n",
       "2   48       1  38.785084        0             2           5.135179   \n",
       "3   34       0  30.040295        0             0           9.502792   \n",
       "4   62       1  35.479721        0             0           5.356890   \n",
       "\n",
       "   alcohol_intake  cancer_history  diagnosis  \n",
       "0        4.148219               1          1  \n",
       "1        3.519683               0          0  \n",
       "2        4.728368               0          1  \n",
       "3        2.044636               0          0  \n",
       "4        3.309849               0          1  "
      ]
     },
     "execution_count": 2,
     "metadata": {},
     "output_type": "execute_result"
    }
   ],
   "source": [
    "# Step 1: Import the data from the \"cancer_data.csv\" file and store it in a variable 'df'\n",
    "df = pd.read_csv(\"cancer_data.csv\")\n",
    "\n",
    "# Step 2: Display the number of rows and columns in the dataset\n",
    "print(\"Number of rows and columns:\", df.shape)\n",
    "\n",
    "# Step 3: Display the first few rows of the dataset to get an overview\n",
    "print(\"First few rows of the dataset:\")\n",
    "df.head()"
   ]
  },
  {
   "cell_type": "code",
   "execution_count": 3,
   "id": "081d9f2f-726a-4fcb-820a-0537cee10244",
   "metadata": {},
   "outputs": [
    {
     "name": "stdout",
     "output_type": "stream",
     "text": [
      "Missing values in the dataset:\n",
      "age                  0\n",
      "gender               0\n",
      "bmi                  0\n",
      "smoking              0\n",
      "genetic_risk         0\n",
      "physical_activity    0\n",
      "alcohol_intake       0\n",
      "cancer_history       0\n",
      "diagnosis            0\n",
      "dtype: int64\n"
     ]
    }
   ],
   "source": [
    "# Step 4: Check for any missing values in the dataset\n",
    "print(\"Missing values in the dataset:\")\n",
    "print(df.isna().sum())"
   ]
  },
  {
   "cell_type": "markdown",
   "id": "d44f1613-5f17-42dc-97a3-c698ef1b74bb",
   "metadata": {},
   "source": [
    "### Model Training Using Decision Tree Classifier"
   ]
  },
  {
   "cell_type": "code",
   "execution_count": 4,
   "id": "8559349e-3cea-451e-a3a7-77c82011c5a2",
   "metadata": {},
   "outputs": [],
   "source": [
    "# Step 1: Select the features and target variables for modeling\n",
    "X = df[[\"age\", \"gender\", \"bmi\", \"smoking\", \"genetic_risk\", \"physical_activity\", \"alcohol_intake\", \"cancer_history\"]]\n",
    "y = df[\"diagnosis\"]\n",
    "\n",
    "# Step 2: Split the data into training and test sets with a test size of 25%\n",
    "X_train, X_test, y_train, y_test = train_test_split(X, y, test_size=0.25, random_state=5)"
   ]
  },
  {
   "cell_type": "code",
   "execution_count": 5,
   "id": "43eea8c2-3184-4298-9c81-8fc925a7b902",
   "metadata": {},
   "outputs": [
    {
     "name": "stdout",
     "output_type": "stream",
     "text": [
      "Decision Tree Classification Report:\n",
      "              precision    recall  f1-score   support\n",
      "\n",
      "           0       0.87      0.90      0.89       231\n",
      "           1       0.84      0.78      0.81       144\n",
      "\n",
      "    accuracy                           0.86       375\n",
      "   macro avg       0.85      0.84      0.85       375\n",
      "weighted avg       0.86      0.86      0.85       375\n",
      "\n"
     ]
    }
   ],
   "source": [
    "# Step 3: Initialize and train a Decision Tree Classifier model using the training data\n",
    "dt_model = DecisionTreeClassifier()\n",
    "dt_model.fit(X_train, y_train)\n",
    " \n",
    "# Step 4: Make prediction on the test data using trained model\n",
    "y_pred_dt = dt_model.predict(X_test)\n",
    "\n",
    "# Step 5: Evaluate the model using a classification report and print the report\n",
    "report_dt = classification_report(y_test, y_pred_dt)\n",
    "print(\"Decision Tree Classification Report:\")\n",
    "print(report_dt)"
   ]
  },
  {
   "cell_type": "markdown",
   "id": "b4ff3ed7-56bf-4fb8-a340-661a18aabd8f",
   "metadata": {},
   "source": [
    "### Model Training Using Random Forest Classifier"
   ]
  },
  {
   "cell_type": "code",
   "execution_count": 6,
   "id": "453cac0b-8575-4de8-99bb-93a208175567",
   "metadata": {},
   "outputs": [
    {
     "name": "stdout",
     "output_type": "stream",
     "text": [
      "Random Forest Classification Report:\n",
      "              precision    recall  f1-score   support\n",
      "\n",
      "           0       0.93      0.97      0.95       231\n",
      "           1       0.95      0.88      0.91       144\n",
      "\n",
      "    accuracy                           0.93       375\n",
      "   macro avg       0.94      0.92      0.93       375\n",
      "weighted avg       0.93      0.93      0.93       375\n",
      "\n"
     ]
    }
   ],
   "source": [
    "# Step 1: Initialize and train a Random Forest Classifier model using training data\n",
    "rf_model = RandomForestClassifier()\n",
    "rf_model.fit(X_train, y_train)\n",
    "\n",
    "# Step 2: Make predictions on the test set using the trained model\n",
    "y_pred_rf = rf_model.predict(X_test)\n",
    "\n",
    "# Step 3: Evaluate the model using a classification report and print the report\n",
    "report_rf = classification_report(y_test, y_pred_rf)\n",
    "print(\"Random Forest Classification Report:\")\n",
    "print(report_rf)"
   ]
  },
  {
   "cell_type": "markdown",
   "id": "f5fc6571-7e0d-4e1c-8c0a-2160aa9e3f75",
   "metadata": {},
   "source": [
    "### Exploring Various Parameters in Random Forest Classifier"
   ]
  },
  {
   "cell_type": "code",
   "execution_count": 7,
   "id": "b93e0e39-03de-464b-8e70-c9fe9be81bb0",
   "metadata": {},
   "outputs": [
    {
     "name": "stdout",
     "output_type": "stream",
     "text": [
      "Random Forest Custom Classification Report:\n",
      "              precision    recall  f1-score   support\n",
      "\n",
      "           0       0.93      0.97      0.94       231\n",
      "           1       0.94      0.88      0.91       144\n",
      "\n",
      "    accuracy                           0.93       375\n",
      "   macro avg       0.93      0.92      0.93       375\n",
      "weighted avg       0.93      0.93      0.93       375\n",
      "\n"
     ]
    }
   ],
   "source": [
    "# Step 1: Train a Random Forest model with specified parameters\n",
    "rf_params = {\n",
    "    'n_estimators':50,\n",
    "    'max_features':'log2',\n",
    "    'criterion':'entropy',\n",
    "    'bootstrap':False,\n",
    "    'max_depth':15,\n",
    "    'min_samples_split':5,\n",
    "    'min_samples_leaf':3\n",
    "}\n",
    "rf_model_custom = RandomForestClassifier(**rf_params)\n",
    "rf_model_custom.fit(X_train, y_train)\n",
    "\n",
    "# Step 2: Make predictions on the test set using trained model\n",
    "y_pred_rf_custom = rf_model_custom.predict(X_test)\n",
    "\n",
    "# Step 3: Evaluate the model using classification report and print report\n",
    "report_rf = classification_report(y_test, y_pred_rf_custom)\n",
    "print(\"Random Forest Custom Classification Report:\")\n",
    "print(report_rf)"
   ]
  },
  {
   "cell_type": "markdown",
   "id": "480aec88-dc27-4e12-8c76-aa708dadde2b",
   "metadata": {},
   "source": [
    "### Conclusion \n",
    "\n",
    "We buit and evaluated various machine learning models to predict the presence of cancer. Here are key findings:\n",
    "1. Decision Tree Classifier:\n",
    "- Accuracy: 0.86\n",
    "- Decision Tree Classifier showed significant improvement with an accuracy of 0.86.\n",
    "\n",
    "2. Random Forest Classifier:\n",
    "- Accuracy with default parameters: 0.93\n",
    "- Accuracy with custom parameters: 0.93\n",
    "- Random Forest Classifier outperformed Decision Tree Classifier with default and custom parameters.\n",
    "\n",
    "Overall, the Random Forest Classifier Model with custom parameters provided the best performance for predicting the presence of cancer in the dataset."
   ]
  }
 ],
 "metadata": {
  "kernelspec": {
   "display_name": "Python 3 (ipykernel)",
   "language": "python",
   "name": "python3"
  },
  "language_info": {
   "codemirror_mode": {
    "name": "ipython",
    "version": 3
   },
   "file_extension": ".py",
   "mimetype": "text/x-python",
   "name": "python",
   "nbconvert_exporter": "python",
   "pygments_lexer": "ipython3",
   "version": "3.13.3"
  }
 },
 "nbformat": 4,
 "nbformat_minor": 5
}
